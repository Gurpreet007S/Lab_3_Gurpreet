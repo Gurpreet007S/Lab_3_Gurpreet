{
 "cells": [
  {
   "cell_type": "code",
   "execution_count": 4,
   "metadata": {},
   "outputs": [
    {
     "name": "stdout",
     "output_type": "stream",
     "text": [
      "33\n"
     ]
    }
   ],
   "source": [
    "#Task_1\n",
    "\n",
    "def nested_sum(nested_lst):\n",
    "    total = 0\n",
    "    for data in nested_lst:\n",
    "        if type(data) == list:\n",
    "            total += sum(data)\n",
    "        else:\n",
    "            total += data\n",
    "    return total\n",
    "\n",
    "print(nested_sum([[4], [3], [2], [7, 9], 8]))\n"
   ]
  },
  {
   "cell_type": "code",
   "execution_count": 1,
   "metadata": {},
   "outputs": [
    {
     "name": "stdout",
     "output_type": "stream",
     "text": [
      "[['I'], ['T'], ['S']]\n",
      "sum of even number from 100 to 500 is : 60300\n"
     ]
    }
   ],
   "source": [
    "#Task_2\n",
    "\n",
    "import functools\n",
    "\n",
    "def capitalize_all(t):\n",
    "    res = []\n",
    "    for s in t:\n",
    "        res.append(s.capitalize())\n",
    "    return res\n",
    "\n",
    "\n",
    "result = list(map(capitalize_all, \"its\"))\n",
    "print(result)\n",
    "\n",
    "\n",
    "def sum_even(a, b):\n",
    "    return a+b\n",
    "\n",
    "\n",
    "def using_reduce(start, end):\n",
    "    lis = []\n",
    "    print(f\"sum of even number from {start} to {end} is : \", end=\"\")\n",
    "    for data in range(start, end+1):\n",
    "        if data % 2 == 0:\n",
    "            lis.append(data)\n",
    "    ans = functools.reduce(sum_even, lis)\n",
    "    return ans\n",
    "\n",
    "\n",
    "print(using_reduce(100, 500))"
   ]
  },
  {
   "cell_type": "code",
   "execution_count": 9,
   "metadata": {},
   "outputs": [
    {
     "name": "stdout",
     "output_type": "stream",
     "text": [
      "['I', 'T', 'S']\n"
     ]
    }
   ],
   "source": [
    "#Task_3\n",
    "\n",
    "def do_upper(s):\n",
    "    return str(s).upper()\n",
    "\n",
    "ans = list(map(do_upper, \"its\"))\n",
    "print(ans)\n"
   ]
  },
  {
   "cell_type": "code",
   "execution_count": 11,
   "metadata": {},
   "outputs": [
    {
     "name": "stdout",
     "output_type": "stream",
     "text": [
      "[25, 50, 45]\n"
     ]
    }
   ],
   "source": [
    "#Task_4\n",
    "\n",
    "def multiple_five(s):\n",
    "    if (s % 5 == 0):\n",
    "        return s\n",
    "\n",
    "\n",
    "ans = list(filter(multiple_five, [25, 6, 50, 89, 45]))\n",
    "print(ans)"
   ]
  },
  {
   "cell_type": "code",
   "execution_count": null,
   "metadata": {},
   "outputs": [],
   "source": []
  }
 ],
 "metadata": {
  "kernelspec": {
   "display_name": "Python 3",
   "language": "python",
   "name": "python3"
  },
  "language_info": {
   "codemirror_mode": {
    "name": "ipython",
    "version": 3
   },
   "file_extension": ".py",
   "mimetype": "text/x-python",
   "name": "python",
   "nbconvert_exporter": "python",
   "pygments_lexer": "ipython3",
   "version": "3.7.6"
  }
 },
 "nbformat": 4,
 "nbformat_minor": 4
}
